{
 "cells": [
  {
   "cell_type": "markdown",
   "metadata": {},
   "source": [
    "Make sure that \n",
    "* sudo pip3 install requests\n",
    "* sudo pip3 install bs4 \n",
    "* sudo pip3 install pandas\n",
    "\n",
    "were ran before executing the code beneath"
   ]
  },
  {
   "cell_type": "markdown",
   "metadata": {},
   "source": [
    "The Underneath code has works! And has been tested with the players: 418560 and 392765"
   ]
  },
  {
   "cell_type": "code",
   "execution_count": 2,
   "metadata": {},
   "outputs": [],
   "source": [
    "import requests\n",
    "from bs4 import BeautifulSoup\n",
    "import pandas as pd"
   ]
  },
  {
   "cell_type": "code",
   "execution_count": null,
   "metadata": {},
   "outputs": [],
   "source": [
    "players = [182877,335721,230784,392765,776890,282823,357164]\n",
    "player = 418560\n",
    "player2 = 392765"
   ]
  },
  {
   "cell_type": "code",
   "execution_count": 60,
   "metadata": {},
   "outputs": [],
   "source": [
    "headers = {'User-Agent': 'Mozilla/5.0 (X11; Linux ×86_64) AppleWebKit/537.36 (KHTML, like Gecko) Chrome/47.0.2526.106 Safari/537.36'}\n",
    "page = \"https://www.transfermarkt.com/yan-couto/profil/spieler/392765\"\n",
    "pageTree = requests.get(page, headers=headers)\n",
    "pageSoup = BeautifulSoup(pageTree. content, 'html.parser')"
   ]
  },
  {
   "cell_type": "code",
   "execution_count": 61,
   "metadata": {},
   "outputs": [],
   "source": [
    "# player_data = pageSoup.find_all(\"span\", {\"class\":\"dataValue\"})\n",
    "player_name = pageSoup.find_all(\"h1\", {\"class\":\"dataHeader\"})\n",
    "player_data = pageSoup.find_all(\"span\", {\"itemprop\": True, \"class\":\"data-header__content\"})\n",
    "# player_data = pageSoup.find_all(\"span\", {\"class\":\"info-table__content info-table__content--bold\"})\n",
    "current_club_meta = pageSoup.find_all(\"span\", {\"class\":\"data-header__club\" , \"itemprop\":\"affiliation\" })\n",
    "current_market_value_meta = pageSoup.find_all(\"div\", {\"class\":\"grid__cell grid__cell--center tm-player-transfer-history-grid__market-value\"})\n",
    "current_market_value_meta = pageSoup.find_all(\"div.tm-player-transfer-history-grid__market-value\")\n",
    "\n"
   ]
  },
  {
   "cell_type": "code",
   "execution_count": 62,
   "metadata": {},
   "outputs": [
    {
     "data": {
      "text/plain": [
       "[<span class=\"data-header__club\" itemprop=\"affiliation\">\n",
       " <a href=\"/fc-arsenal/startseite/verein/11\" title=\"Arsenal FC\">Arsenal</a> </span>]"
      ]
     },
     "execution_count": 62,
     "metadata": {},
     "output_type": "execute_result"
    }
   ],
   "source": [
    "# player_data\n",
    "# print(len(player_data))\n",
    "current_club_meta"
   ]
  },
  {
   "cell_type": "code",
   "execution_count": 70,
   "metadata": {},
   "outputs": [],
   "source": [
    "player_id_list = [] #check\n",
    "player_club_list = []\n",
    "player_name_list = [] #check\n",
    "date_of_birth_list = [] #check\n",
    "place_of_birth_list = [] #check\n",
    "citizenship_list = [] #check\n",
    "height_list = [] #check\n",
    "\n",
    "position_list = [] #Not available\n",
    "foot_list = [] #Not available\n",
    "\n",
    "current_club_list = [] #check\n",
    "current_market_value_list = [] #check\n",
    "player = 418560\n"
   ]
  },
  {
   "cell_type": "code",
   "execution_count": 67,
   "metadata": {},
   "outputs": [],
   "source": [
    "player_id_list.append(player)\n",
    "\n",
    "club_soup = BeautifulSoup(str(current_club_meta[0]), 'html.parser')\n",
    "a_tag = club_soup.find('span', class_=\"data-header__club\").find('a')\n",
    "club_name = a_tag.get('title')\n",
    "player_club_list.append(club_name)\n",
    "\n",
    "\n",
    "for _ in range(0, len(player_data)):\n",
    "        html_string = player_data[_]\n",
    "        soup = BeautifulSoup(str(html_string), 'html.parser')\n",
    "        td_tag = soup.find(\"span\", class_=\"data-header__content\")\n",
    "        if td_tag:\n",
    "            if _ % 8 == 0:  \n",
    "                date_of_birth_list.append(td_tag.text.strip())\n",
    "            if _ % 8 == 1:\n",
    "                place_of_birth_list.append(td_tag.text.strip())\n",
    "            if _ % 8 == 2:\n",
    "                citizenship_list.append(td_tag.text.strip())\n",
    "            if _ % 8 == 3:\n",
    "                height_list.append(td_tag.text.strip())\n",
    "        \n",
    "        else:\n",
    "            print(\"NULL\")\n",
    "\n",
    "\n",
    "\n",
    "\n"
   ]
  },
  {
   "cell_type": "code",
   "execution_count": 68,
   "metadata": {},
   "outputs": [],
   "source": [
    "# player_id_list.append(player)\n",
    "# for _ in range(0, 7):\n",
    "#         html_string = player_data[_]\n",
    "#         soup = BeautifulSoup(str(html_string), 'html.parser')\n",
    "#         td_tag = soup.find(\"span\", class_=\"info-table__content info-table__content--bold\")\n",
    "#         # print(td_tag.text.strip())\n",
    "        \n",
    "#         if td_tag:\n",
    "#             if _ % 8 == 0:  \n",
    "#                 name_in_country_list.append(td_tag.text.strip())\n",
    "#             if _ % 8 == 1:\n",
    "#                 date_of_birth_list.append(td_tag.text.strip())\n",
    "#             if _ % 8 == 2:\n",
    "#                 place_of_birth_list.append(td_tag.text.strip())\n",
    "#             if _ % 8 == 3:\n",
    "#                 height_list.append(td_tag.text.strip()) # clean\n",
    "#             if _ % 8 == 4:\n",
    "#                 citizenship_list.append(td_tag.text.strip())\n",
    "#             if _ % 8 == 5:\n",
    "#                 position_list.append(td_tag.text.strip())\n",
    "#             if _ % 8 == 6:  \n",
    "#                 foot_list.append(td_tag.text.strip())\n",
    "#         else:\n",
    "#             print(\"NULL\")"
   ]
  },
  {
   "cell_type": "code",
   "execution_count": 69,
   "metadata": {},
   "outputs": [
    {
     "name": "stdout",
     "output_type": "stream",
     "text": [
      "[418560]\n",
      "['Arsenal FC']\n",
      "['Jul 28, 2000 (23)']\n",
      "['London']\n",
      "['England']\n",
      "['1,82 m']\n"
     ]
    }
   ],
   "source": [
    "print(player_id_list)\n",
    "print(player_club_list)\n",
    "print(date_of_birth_list)\n",
    "print(place_of_birth_list)\n",
    "print(citizenship_list)\n",
    "print(height_list)\n"
   ]
  },
  {
   "cell_type": "code",
   "execution_count": null,
   "metadata": {},
   "outputs": [
    {
     "data": {
      "text/plain": [
       "[]"
      ]
     },
     "execution_count": 26,
     "metadata": {},
     "output_type": "execute_result"
    }
   ],
   "source": [
    "Players"
   ]
  }
 ],
 "metadata": {
  "kernelspec": {
   "display_name": "Python 3",
   "language": "python",
   "name": "python3"
  },
  "language_info": {
   "codemirror_mode": {
    "name": "ipython",
    "version": 3
   },
   "file_extension": ".py",
   "mimetype": "text/x-python",
   "name": "python",
   "nbconvert_exporter": "python",
   "pygments_lexer": "ipython3",
   "version": "3.10.8"
  }
 },
 "nbformat": 4,
 "nbformat_minor": 2
}
