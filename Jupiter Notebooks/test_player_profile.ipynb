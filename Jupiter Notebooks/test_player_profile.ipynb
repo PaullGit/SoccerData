{
 "cells": [
  {
   "cell_type": "markdown",
   "metadata": {},
   "source": [
    "Make sure that \n",
    "* sudo pip3 install requests\n",
    "* sudo pip3 install bs4 \n",
    "* sudo pip3 install pandas\n",
    "\n",
    "were ran before executing the code beneath"
   ]
  },
  {
   "cell_type": "markdown",
   "metadata": {},
   "source": [
    "The Underneath code has works! And has been tested with the players: 418560 and 392765"
   ]
  },
  {
   "cell_type": "code",
   "execution_count": 87,
   "metadata": {},
   "outputs": [],
   "source": [
    "import requests\n",
    "from bs4 import BeautifulSoup\n",
    "import pandas as pd"
   ]
  },
  {
   "cell_type": "code",
   "execution_count": 88,
   "metadata": {},
   "outputs": [],
   "source": [
    "players = [182877,335721,230784,392765,776890,282823,357164]\n",
    "player = 418560\n",
    "player2 = 392765"
   ]
  },
  {
   "cell_type": "code",
   "execution_count": 146,
   "metadata": {},
   "outputs": [],
   "source": [
    "headers = {'User-Agent': 'Mozilla/5.0 (X11; Linux ×86_64) AppleWebKit/537.36 (KHTML, like Gecko) Chrome/47.0.2526.106 Safari/537.36'}\n",
    "page = \"https://www.transfermarkt.com/yan-couto/profil/spieler/182877\"\n",
    "pageTree = requests.get(page, headers=headers)\n",
    "pageSoup = BeautifulSoup(pageTree. content, 'html.parser')"
   ]
  },
  {
   "cell_type": "code",
   "execution_count": 147,
   "metadata": {},
   "outputs": [],
   "source": [
    "# player_data = pageSoup.find_all(\"span\", {\"class\":\"dataValue\"})\n",
    "player_name = pageSoup.find_all(\"h1\", {\"class\":\"data-header__headline-wrapper\"})\n",
    "player_data = pageSoup.find_all(\"span\", {\"itemprop\": True, \"class\":\"data-header__content\"})\n",
    "# player_data = pageSoup.find_all(\"span\", {\"class\":\"info-table__content info-table__content--bold\"})\n",
    "current_club_meta = pageSoup.find_all(\"span\", {\"class\":\"data-header__club\" , \"itemprop\":\"affiliation\" })\n",
    "current_market_value_meta = pageSoup.find_all(\"div\", {\"class\":\"grid__cell grid__cell--center tm-player-transfer-history-grid__market-value\"})\n",
    "current_market_value_meta = pageSoup.find_all(\"div.tm-player-transfer-history-grid__market-value\")\n",
    "\n"
   ]
  },
  {
   "cell_type": "code",
   "execution_count": 148,
   "metadata": {},
   "outputs": [],
   "source": [
    "import re\n",
    "def clean_player_name(player_name):\n",
    "    input_string = player_name[0].get_text(strip=True)\n",
    "    only_letters = re.sub(r'[0-9#]', '', input_string)\n",
    "    find_capitals = re.sub(r'([A-Z])', r' \\1', only_letters)\n",
    "    cleaned_string = find_capitals.lstrip()\n",
    "    return cleaned_string\n"
   ]
  },
  {
   "cell_type": "code",
   "execution_count": 149,
   "metadata": {},
   "outputs": [
    {
     "data": {
      "text/plain": [
       "'Anthony Martial'"
      ]
     },
     "execution_count": 149,
     "metadata": {},
     "output_type": "execute_result"
    }
   ],
   "source": [
    "clean_player_name(player_name)\n"
   ]
  },
  {
   "cell_type": "code",
   "execution_count": 150,
   "metadata": {},
   "outputs": [],
   "source": [
    "player_id_list = [] #check\n",
    "player_club_list = []\n",
    "player_name_list = [] #check\n",
    "date_of_birth_list = [] #check\n",
    "place_of_birth_list = [] #check\n",
    "citizenship_list = [] #check\n",
    "height_list = [] #check\n",
    "\n",
    "position_list = [] #Not available\n",
    "foot_list = [] #Not available\n",
    "\n",
    "current_club_list = [] #check\n",
    "current_market_value_list = [] #check\n",
    "player = 418560\n"
   ]
  },
  {
   "cell_type": "code",
   "execution_count": 153,
   "metadata": {},
   "outputs": [],
   "source": [
    "player_id_list.append(player)\n",
    "\n",
    "club_soup = BeautifulSoup(str(current_club_meta[0]), 'html.parser')\n",
    "a_tag = club_soup.find('span', class_=\"data-header__club\").find('a')\n",
    "club_name = a_tag.get('title')\n",
    "player_club_list.append(club_name)\n",
    "\n",
    "player_name_list.append(clean_player_name(player_name))\n",
    "\n",
    "for _ in range(0, len(player_data)):\n",
    "        html_string = player_data[_]\n",
    "        soup = BeautifulSoup(str(html_string), 'html.parser')\n",
    "        td_tag = soup.find(\"span\", class_=\"data-header__content\")\n",
    "        if td_tag:\n",
    "            if _ % 4 == 0:  \n",
    "                date_of_birth_list.append(td_tag.text.strip())\n",
    "            if _ % 4 == 1:\n",
    "                place_of_birth_list.append(td_tag.text.strip())\n",
    "            if _ % 4 == 2:\n",
    "                citizenship_list.append(td_tag.text.strip())\n",
    "            if _ % 4 == 3:\n",
    "                height_list.append(td_tag.text.strip())\n",
    "        \n",
    "        else:\n",
    "            print(\"NULL\")\n",
    "\n",
    "\n",
    "\n",
    "\n"
   ]
  },
  {
   "cell_type": "code",
   "execution_count": 68,
   "metadata": {},
   "outputs": [],
   "source": [
    "# player_id_list.append(player)\n",
    "# for _ in range(0, 7):\n",
    "#         html_string = player_data[_]\n",
    "#         soup = BeautifulSoup(str(html_string), 'html.parser')\n",
    "#         td_tag = soup.find(\"span\", class_=\"info-table__content info-table__content--bold\")\n",
    "#         # print(td_tag.text.strip())\n",
    "        \n",
    "#         if td_tag:\n",
    "#             if _ % 8 == 0:  \n",
    "#                 name_in_country_list.append(td_tag.text.strip())\n",
    "#             if _ % 8 == 1:\n",
    "#                 date_of_birth_list.append(td_tag.text.strip())\n",
    "#             if _ % 8 == 2:\n",
    "#                 place_of_birth_list.append(td_tag.text.strip())\n",
    "#             if _ % 8 == 3:\n",
    "#                 height_list.append(td_tag.text.strip()) # clean\n",
    "#             if _ % 8 == 4:\n",
    "#                 citizenship_list.append(td_tag.text.strip())\n",
    "#             if _ % 8 == 5:\n",
    "#                 position_list.append(td_tag.text.strip())\n",
    "#             if _ % 8 == 6:  \n",
    "#                 foot_list.append(td_tag.text.strip())\n",
    "#         else:\n",
    "#             print(\"NULL\")"
   ]
  },
  {
   "cell_type": "code",
   "execution_count": 154,
   "metadata": {},
   "outputs": [
    {
     "name": "stdout",
     "output_type": "stream",
     "text": [
      "[418560, 418560]\n",
      "['Manchester United', 'Manchester United']\n",
      "['Anthony Martial']\n",
      "['Dec 5, 1995 (28)', 'Dec 5, 1995 (28)']\n",
      "['Massy', 'Massy']\n",
      "['France', 'France']\n",
      "['1,81 m', '1,81 m']\n"
     ]
    }
   ],
   "source": [
    "print(player_id_list)\n",
    "print(player_club_list)\n",
    "print(player_name_list)\n",
    "print(date_of_birth_list)\n",
    "print(place_of_birth_list)\n",
    "print(citizenship_list)\n",
    "print(height_list)\n"
   ]
  },
  {
   "cell_type": "code",
   "execution_count": null,
   "metadata": {},
   "outputs": [
    {
     "data": {
      "text/plain": [
       "[]"
      ]
     },
     "execution_count": 26,
     "metadata": {},
     "output_type": "execute_result"
    }
   ],
   "source": [
    "Players"
   ]
  }
 ],
 "metadata": {
  "kernelspec": {
   "display_name": "Python 3",
   "language": "python",
   "name": "python3"
  },
  "language_info": {
   "codemirror_mode": {
    "name": "ipython",
    "version": 3
   },
   "file_extension": ".py",
   "mimetype": "text/x-python",
   "name": "python",
   "nbconvert_exporter": "python",
   "pygments_lexer": "ipython3",
   "version": "3.10.8"
  }
 },
 "nbformat": 4,
 "nbformat_minor": 2
}
