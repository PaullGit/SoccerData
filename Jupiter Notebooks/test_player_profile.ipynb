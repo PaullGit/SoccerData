{
 "cells": [
  {
   "cell_type": "markdown",
   "metadata": {},
   "source": [
    "Make sure that \n",
    "* sudo pip3 install requests\n",
    "* sudo pip3 install bs4 \n",
    "* sudo pip3 install pandas\n",
    "\n",
    "were ran before executing the code beneath"
   ]
  },
  {
   "cell_type": "code",
   "execution_count": 1,
   "metadata": {},
   "outputs": [],
   "source": [
    "import requests\n",
    "from bs4 import BeautifulSoup\n",
    "import pandas as pd"
   ]
  },
  {
   "cell_type": "code",
   "execution_count": 128,
   "metadata": {},
   "outputs": [],
   "source": [
    "headers = {'User-Agent': 'Mozilla/5.0 (X11; Linux ×86_64) AppleWebKit/537.36 (KHTML, like Gecko) Chrome/47.0.2526.106 Safari/537.36'}\n",
    "page = \"https://www.transfermarkt.com/yan-couto/profil/spieler/392765\"\n",
    "pageTree = requests.get(page, headers=headers)\n",
    "pageSoup = BeautifulSoup(pageTree. content, 'html.parser')"
   ]
  },
  {
   "cell_type": "code",
   "execution_count": 136,
   "metadata": {},
   "outputs": [],
   "source": [
    "player_data = pageSoup.find_all(\"span\", {\"itemprop\": True, \"class\":\"data-header__content\"})\n",
    "player_data2 = pageSoup.find_all(\"span\", {\"class\":\"info-table__content info-table__content--bold\"})\n",
    "current_club_meta = pageSoup.find_all(\"span\", {\"class\":\"data-header__club\" , \"itemprop\":\"affiliation\" })\n",
    "current_market_value_meta = pageSoup.find_all(\"div\", {\"class\":\"grid__cell grid__cell--center tm-player-transfer-history-grid__market-value\"})\n",
    "current_market_value_meta = pageSoup.find_all(\"div.tm-player-transfer-history-grid__market-value\")\n",
    "\n",
    "\n",
    "player_name_meta = pageSoup.find_all(\"h1\", {\"class\":\"data-header__headline-wrapper\"})"
   ]
  },
  {
   "cell_type": "code",
   "execution_count": 137,
   "metadata": {},
   "outputs": [
    {
     "data": {
      "text/plain": [
       "[<h1 class=\"data-header__headline-wrapper\">\n",
       " <span class=\"data-header__shirt-number\">\n",
       "                         #10                    </span>\n",
       "                                 Emile <strong>Smith Rowe</strong> </h1>]"
      ]
     },
     "execution_count": 137,
     "metadata": {},
     "output_type": "execute_result"
    }
   ],
   "source": [
    "player_name_meta"
   ]
  },
  {
   "cell_type": "code",
   "execution_count": 133,
   "metadata": {},
   "outputs": [],
   "source": [
    "player_id_list = []\n",
    "player_name_list = []\n",
    "date_of_birth_list = []\n",
    "place_of_birth_list = []\n",
    "citizenship_list = []\n",
    "height_list = []\n",
    "\n",
    "position_list = []\n",
    "foot_list = []\n",
    "\n",
    "current_club_list = []\n",
    "current_market_value_list = []\n",
    "player = 418560\n"
   ]
  },
  {
   "cell_type": "code",
   "execution_count": 27,
   "metadata": {},
   "outputs": [],
   "source": [
    "# player_id_list.append(player)\n",
    "# for _ in range(0, len(player_data)):\n",
    "#         html_string = player_data[_]\n",
    "#         soup = BeautifulSoup(str(html_string), 'html.parser')\n",
    "#         td_tag = soup.find(\"span\", class_=\"data-header__content\")\n",
    "#         if td_tag:\n",
    "#             if _ % 8 == 0:  \n",
    "#                 date_of_birth_list.append(td_tag.text.strip())\n",
    "#             if _ % 8 == 1:\n",
    "#                 place_of_birth_list.append(td_tag.text.strip())\n",
    "#             if _ % 8 == 2:\n",
    "#                 citizenship_list.append(td_tag.text.strip())\n",
    "#             if _ % 8 == 3:\n",
    "#                 height_list.append(td_tag.text.strip())\n",
    "            \n",
    "#         else:\n",
    "#             print(\"NULL\")\n",
    "\n",
    "\n"
   ]
  },
  {
   "cell_type": "code",
   "execution_count": 134,
   "metadata": {},
   "outputs": [
    {
     "name": "stdout",
     "output_type": "stream",
     "text": [
      "Jul 28, 2000 (23)\n",
      "London\n",
      "1,82 m\n",
      "England\n",
      "midfield - Attacking Midfield\n",
      "right\n",
      "Aug 1, 2020\n"
     ]
    }
   ],
   "source": [
    "player_id_list.append(player)\n",
    "for _ in range(0, 7):\n",
    "        html_string = player_data2[_]\n",
    "        soup = BeautifulSoup(str(html_string), 'html.parser')\n",
    "        td_tag = soup.find(\"span\", class_=\"info-table__content info-table__content--bold\")\n",
    "        print(td_tag.text.strip())\n",
    "        \n",
    "        if td_tag:\n",
    "            if _ % 8 == 0:  \n",
    "                name_in_country_list.append(td_tag.text.strip())\n",
    "            if _ % 8 == 1:\n",
    "                date_of_birth_list.append(td_tag.text.strip())\n",
    "            if _ % 8 == 2:\n",
    "                place_of_birth_list.append(td_tag.text.strip())\n",
    "            if _ % 8 == 3:\n",
    "                height_list.append(td_tag.text.strip()) # clean\n",
    "            if _ % 8 == 4:\n",
    "                citizenship_list.append(td_tag.text.strip())\n",
    "            if _ % 8 == 5:\n",
    "                position_list.append(td_tag.text.strip())\n",
    "            if _ % 8 == 6:  \n",
    "                foot_list.append(td_tag.text.strip())\n",
    "        else:\n",
    "            print(\"NULL\")"
   ]
  },
  {
   "cell_type": "code",
   "execution_count": 80,
   "metadata": {},
   "outputs": [
    {
     "name": "stdout",
     "output_type": "stream",
     "text": [
      "[418560]\n",
      "['Yan Bueno Couto']\n",
      "['Jun 3, 2002 (21)']\n",
      "['Curitiba']\n",
      "['1,68\\xa0m']\n",
      "['Brazil\\xa0\\xa0Portugal']\n",
      "['Defender - Right-Back']\n",
      "['right']\n"
     ]
    }
   ],
   "source": [
    "print(player_id_list)\n",
    "print(name_in_country_list)\n",
    "print(date_of_birth_list)\n",
    "print(place_of_birth_list)\n",
    "print(height_list)\n",
    "print(citizenship_list)\n",
    "print(position_list)\n",
    "print(foot_list)"
   ]
  },
  {
   "cell_type": "code",
   "execution_count": 26,
   "metadata": {},
   "outputs": [
    {
     "data": {
      "text/plain": [
       "[]"
      ]
     },
     "execution_count": 26,
     "metadata": {},
     "output_type": "execute_result"
    }
   ],
   "source": [
    "Players"
   ]
  }
 ],
 "metadata": {
  "kernelspec": {
   "display_name": "Python 3",
   "language": "python",
   "name": "python3"
  },
  "language_info": {
   "codemirror_mode": {
    "name": "ipython",
    "version": 3
   },
   "file_extension": ".py",
   "mimetype": "text/x-python",
   "name": "python",
   "nbconvert_exporter": "python",
   "pygments_lexer": "ipython3",
   "version": "3.10.8"
  }
 },
 "nbformat": 4,
 "nbformat_minor": 2
}
