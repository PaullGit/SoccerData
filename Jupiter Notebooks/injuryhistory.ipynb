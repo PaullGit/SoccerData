{
 "cells": [
  {
   "cell_type": "markdown",
   "metadata": {},
   "source": [
    "Make sure that \n",
    "* sudo pip3 install requests\n",
    "* sudo pip3 install bs4 \n",
    "* sudo pip3 install pandas\n",
    "\n",
    "were ran before executing the code beneath"
   ]
  },
  {
   "cell_type": "code",
   "execution_count": null,
   "metadata": {},
   "outputs": [],
   "source": [
    "import requests\n",
    "from bs4 import BeautifulSoup\n",
    "import pandas as pd"
   ]
  },
  {
   "cell_type": "code",
   "execution_count": null,
   "metadata": {},
   "outputs": [],
   "source": [
    "player_id = 418560"
   ]
  },
  {
   "cell_type": "code",
   "execution_count": null,
   "metadata": {},
   "outputs": [],
   "source": [
    "headers = {'User-Agent': 'Mozilla/5.0 (X11; Linux ×86_64) AppleWebKit/537.36 (KHTML, like Gecko) Chrome/47.0.2526.106 Safari/537.36'}\n",
    "page =  f\"https://www.transfermarkt.com/erling-haaland/verletzungen/spieler/{player_id}\"\n",
    "pageTree = requests.get(page, headers=headers)\n",
    "pageSoup = BeautifulSoup(pageTree. content, 'html.parser')\n"
   ]
  },
  {
   "cell_type": "code",
   "execution_count": null,
   "metadata": {},
   "outputs": [],
   "source": []
  },
  {
   "cell_type": "code",
   "execution_count": null,
   "metadata": {},
   "outputs": [],
   "source": [
    "pageSoup"
   ]
  },
  {
   "cell_type": "code",
   "execution_count": null,
   "metadata": {},
   "outputs": [],
   "source": [
    "#Use before seeding data\n",
    "SeasonFromUntil= []\n",
    "Injury = []\n",
    "DaysGamesMissed = []\n",
    "\n"
   ]
  },
  {
   "cell_type": "code",
   "execution_count": null,
   "metadata": {},
   "outputs": [],
   "source": [
    "\n",
    "SeasonFromUntil = pageSoup.find_all(\"td\", {\"class\": \"zentriert\"})\n",
    "Injury = pageSoup.find_all(\"td\", {\"class\": \"hauptlink\"})\n",
    "DaysGamesMissed = pageSoup.find_all(\"td\", {\"class\": \"rechts\"})"
   ]
  },
  {
   "cell_type": "code",
   "execution_count": null,
   "metadata": {},
   "outputs": [],
   "source": [
    "DaysGamesMissed"
   ]
  },
  {
   "cell_type": "code",
   "execution_count": null,
   "metadata": {},
   "outputs": [],
   "source": [
    "#SEEDING DATA\n",
    "season_list = []\n",
    "from_list = []\n",
    "until_list = []\n",
    "injury_list = []\n",
    "days_list = []\n",
    "games_missed_list = []\n",
    "for _ in range(0, len(SeasonFromUntil)):\n",
    "    html_string = SeasonFromUntil[_]\n",
    "    soup = BeautifulSoup(str(html_string), 'html.parser')\n",
    "    td_tag = soup.find(\"td\", class_=\"zentriert\")\n",
    "    if td_tag:\n",
    "        if _ % 3 == 0:  \n",
    "            season_list.append(td_tag.text)\n",
    "        if _ % 3 == 1:\n",
    "            from_list.append(td_tag.text)\n",
    "        if _ % 3 == 2:\n",
    "            until_list.append(td_tag.text)\n",
    "    else:\n",
    "        print(\"NULL\")\n",
    "\n",
    "for _ in range(0, len(Injury),2):\n",
    "    html_string = Injury[_]\n",
    "    soup = BeautifulSoup(str(html_string), 'html.parser')\n",
    "    td_tag = soup.find(\"td\", class_=\"hauptlink\")\n",
    "    if td_tag:\n",
    "        injury_list.append(td_tag.text)\n",
    "    else:\n",
    "        print(\"NULL\")\n",
    "\n",
    "for _ in range(0, len(DaysGamesMissed)):\n",
    "    html_string = DaysGamesMissed[_]\n",
    "    soup = BeautifulSoup(str(html_string), 'html.parser')\n",
    "    td_tag = soup.find(\"td\", class_=\"rechts\")\n",
    "    if td_tag:\n",
    "        if _ % 2 == 0:  \n",
    "            days_list.append(td_tag.text)\n",
    "        if _ % 2 == 1:\n",
    "            games_missed_list.append(td_tag.text)\n",
    "    else:\n",
    "        print(\"NULL\")"
   ]
  },
  {
   "cell_type": "code",
   "execution_count": null,
   "metadata": {},
   "outputs": [],
   "source": [
    "print(season_list)\n",
    "print(injury_list)\n",
    "print(from_list)\n",
    "print(until_list)\n",
    "print(days_list)\n",
    "print(games_missed_list)\n"
   ]
  },
  {
   "cell_type": "code",
   "execution_count": null,
   "metadata": {},
   "outputs": [],
   "source": [
    "\n",
    "\n",
    "# Correct the order of the dictionary keys when creating the DataFrame\n",
    "df = pd.DataFrame({\"Season\": season_list, \"Injury\": injury_list, \"From\": from_list, \"Until\": until_list, \"Days\": days_list, \"Games Missed\": games_missed_list})\n",
    "\n",
    "print(df)"
   ]
  },
  {
   "cell_type": "code",
   "execution_count": null,
   "metadata": {},
   "outputs": [],
   "source": [
    "\n",
    "html_string = '<td class=\"rechts hauptlink\"><a href=\"/wojciech-szczesny/marktwertverlauf/spieler/44058\">€10.00m</a></td>'\n",
    "# Split the string using \"/\" and \">\"\n",
    "parts = html_string.split(\"/\")\n",
    "player_id = parts[4].split(\">\")[0]\n",
    "print(parts)"
   ]
  }
 ],
 "metadata": {
  "kernelspec": {
   "display_name": "Python 3",
   "language": "python",
   "name": "python3"
  },
  "language_info": {
   "codemirror_mode": {
    "name": "ipython",
    "version": 3
   },
   "file_extension": ".py",
   "mimetype": "text/x-python",
   "name": "python",
   "nbconvert_exporter": "python",
   "pygments_lexer": "ipython3",
   "version": "3.10.8"
  }
 },
 "nbformat": 4,
 "nbformat_minor": 2
}
