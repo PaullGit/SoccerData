{
 "cells": [
  {
   "cell_type": "markdown",
   "metadata": {},
   "source": [
    "Make sure that \n",
    "* sudo pip3 install requests\n",
    "* sudo pip3 install bs4 \n",
    "* sudo pip3 install pandas\n",
    "\n",
    "were ran before executing the code beneath"
   ]
  },
  {
   "cell_type": "code",
   "execution_count": 11,
   "metadata": {},
   "outputs": [],
   "source": [
    "import requests\n",
    "from bs4 import BeautifulSoup\n",
    "import pandas as pd"
   ]
  },
  {
   "cell_type": "code",
   "execution_count": 22,
   "metadata": {},
   "outputs": [],
   "source": [
    "headers = {'User-Agent': 'Mozilla/5.0 (X11; Linux ×86_64) AppleWebKit/537.36 (KHTML, like Gecko) Chrome/47.0.2526.106 Safari/537.36'}\n",
    "page =  \"https://www.transfermarkt.co.uk/manchester-united/startseite/verein/985\"\n",
    "pageTree = requests.get(page, headers=headers)\n",
    "pageSoup = BeautifulSoup(pageTree. content, 'html.parser')"
   ]
  },
  {
   "cell_type": "code",
   "execution_count": null,
   "metadata": {},
   "outputs": [],
   "source": [
    "pageSoup"
   ]
  },
  {
   "cell_type": "code",
   "execution_count": 24,
   "metadata": {},
   "outputs": [],
   "source": [
    "PlayersList = []\n",
    "AgeList = []\n",
    "PositionsList = []\n",
    "NationList = []\n",
    "ValuesList = []"
   ]
  },
  {
   "cell_type": "code",
   "execution_count": 25,
   "metadata": {},
   "outputs": [],
   "source": [
    "Players = pageSoup.find_all(\"img\", {\"class\": \"bilderrahmen-fixed lazy lazy\"})\n",
    "Age = pageSoup.find_all(\"td\", {\"class\": \"zentriert\"})\n",
    "Positions = pageSoup.find_all(\"td\", {\"class\": [\n",
    "    \"zentriert rueckennummer bg_Torwart\",\n",
    "    \"zentriert rueckennummer bg_Abwehr\"\n",
    "    \"zentriert rueckennummer bg Mittelfeld\"\n",
    "    \"zentriert rueckennummer bg_Sturm\"]})\n",
    "Nationality = pageSoup.find_all(\"td\", {\"class\": \"zentriert\"})\n",
    "Values = pageSoup.find_all(\"td\", {\"class\": \"rechts hauptlink\"})"
   ]
  },
  {
   "cell_type": "code",
   "execution_count": 26,
   "metadata": {},
   "outputs": [
    {
     "data": {
      "text/plain": [
       "[]"
      ]
     },
     "execution_count": 26,
     "metadata": {},
     "output_type": "execute_result"
    }
   ],
   "source": [
    "Players"
   ]
  }
 ],
 "metadata": {
  "kernelspec": {
   "display_name": "Python 3",
   "language": "python",
   "name": "python3"
  },
  "language_info": {
   "codemirror_mode": {
    "name": "ipython",
    "version": 3
   },
   "file_extension": ".py",
   "mimetype": "text/x-python",
   "name": "python",
   "nbconvert_exporter": "python",
   "pygments_lexer": "ipython3",
   "version": "3.10.8"
  }
 },
 "nbformat": 4,
 "nbformat_minor": 2
}
